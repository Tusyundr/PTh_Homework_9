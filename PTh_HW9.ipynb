{
  "cells": [
    {
      "cell_type": "code",
      "execution_count": 1,
      "metadata": {
        "id": "W2wLpq-Xo-bn"
      },
      "outputs": [],
      "source": [
        "import numpy as np\n",
        "import matplotlib.pyplot as plt\n",
        "import sympy as sym\n",
        "from sklearn.linear_model import LinearRegression"
      ]
    },
    {
      "cell_type": "markdown",
      "metadata": {
        "id": "zhgx2Iuxo-br"
      },
      "source": [
        "## Задача 1\n",
        "_Даны значения величины заработной платы заемщиков банка (zp) и значения их поведенческого кредитного скоринга (ks)_:  \n",
        "> zp = [35, 45, 190, 200, 40, 70, 54, 150, 120, 110]  \n",
        "> ks = [401, 574, 874, 919, 459, 739, 653, 902, 746, 832].\n",
        "\n",
        "_Используя математические операции, посчитать коэффициенты линейной регрессии, приняв за X заработную плату (то есть, zp - признак), а за y - значения скорингового балла (то есть, ks - целевая переменная). Произвести расчет как с использованием intercept, так и без._"
      ]
    },
    {
      "cell_type": "code",
      "source": [
        "zp = np.array([35, 45, 190, 200, 40, 70, 54, 150, 120, 110])\n",
        "ks = np.array([401, 574, 874, 919, 459, 739, 653, 902, 746, 832])"
      ],
      "metadata": {
        "id": "T8MhsXRIqBpZ"
      },
      "execution_count": 2,
      "outputs": []
    },
    {
      "cell_type": "markdown",
      "metadata": {
        "id": "JLjOo4tNo-bs"
      },
      "source": [
        "1. Использем формулы:"
      ]
    },
    {
      "cell_type": "code",
      "execution_count": 3,
      "metadata": {
        "colab": {
          "base_uri": "https://localhost:8080/"
        },
        "id": "MeNerNvko-bs",
        "outputId": "6075dc20-9834-4f11-879a-ef69750dd378"
      },
      "outputs": [
        {
          "output_type": "stream",
          "name": "stdout",
          "text": [
            "Коэффициент b1: 2.620538882402765\n"
          ]
        }
      ],
      "source": [
        "b1 = ((zp * ks).mean() - (zp).mean() * (ks).mean()) / ((zp ** 2).mean() - zp.mean() ** 2)\n",
        "print(f'Коэффициент b1: {b1}')"
      ]
    },
    {
      "cell_type": "code",
      "execution_count": 4,
      "metadata": {
        "colab": {
          "base_uri": "https://localhost:8080/"
        },
        "id": "xB2vnNTto-bu",
        "outputId": "cc1051f0-2106-4429-d780-b774f5347302"
      },
      "outputs": [
        {
          "output_type": "execute_result",
          "data": {
            "text/plain": [
              "array([ 91.71886088, 117.92424971, 497.90238766, 524.10777648,\n",
              "       104.8215553 , 183.43772177, 141.50909965, 393.08083236,\n",
              "       314.46466589, 288.25927706])"
            ]
          },
          "metadata": {},
          "execution_count": 4
        }
      ],
      "source": [
        "b1 * zp"
      ]
    },
    {
      "cell_type": "code",
      "execution_count": 5,
      "metadata": {
        "colab": {
          "base_uri": "https://localhost:8080/"
        },
        "id": "eCFKiY4Co-bu",
        "outputId": "539421ab-7c02-49d4-bb47-e51567203fe0"
      },
      "outputs": [
        {
          "output_type": "stream",
          "name": "stdout",
          "text": [
            "Коэффициент b0: 444.1773573243596\n"
          ]
        }
      ],
      "source": [
        "b0 = ks.mean() - b1 * zp.mean()\n",
        "print(f'Коэффициент b0: {b0}')"
      ]
    },
    {
      "cell_type": "code",
      "execution_count": 6,
      "metadata": {
        "colab": {
          "base_uri": "https://localhost:8080/"
        },
        "id": "xiHWg25ho-bv",
        "outputId": "9d8e2b6b-a33b-4c3b-9a74-7776cd02aa0c"
      },
      "outputs": [
        {
          "output_type": "execute_result",
          "data": {
            "text/plain": [
              "array([535.89621821, 562.10160703, 942.07974498, 968.2851338 ,\n",
              "       548.99891262, 627.61507909, 585.68645697, 837.25818968,\n",
              "       758.64202321, 732.43663439])"
            ]
          },
          "metadata": {},
          "execution_count": 6
        }
      ],
      "source": [
        "y_pred = b0 + b1 * zp\n",
        "y_pred"
      ]
    },
    {
      "cell_type": "markdown",
      "metadata": {
        "id": "Q8BTwq3po-bw"
      },
      "source": [
        "2. Используем матричный метод:"
      ]
    },
    {
      "cell_type": "code",
      "execution_count": 7,
      "metadata": {
        "colab": {
          "base_uri": "https://localhost:8080/"
        },
        "id": "RJexI0Eao-bw",
        "outputId": "32bdd67d-e132-4f29-d957-f7f8d2f67e21"
      },
      "outputs": [
        {
          "output_type": "stream",
          "name": "stdout",
          "text": [
            "x: [[ 35]\n",
            " [ 45]\n",
            " [190]\n",
            " [200]\n",
            " [ 40]\n",
            " [ 70]\n",
            " [ 54]\n",
            " [150]\n",
            " [120]\n",
            " [110]]\n"
          ]
        }
      ],
      "source": [
        "x = zp.reshape(-1, 1)\n",
        "print(f'x: {x}')"
      ]
    },
    {
      "cell_type": "code",
      "execution_count": 8,
      "metadata": {
        "colab": {
          "base_uri": "https://localhost:8080/"
        },
        "id": "yyGzvc1Go-bw",
        "outputId": "c90c54c6-3ba5-4576-8232-a92b94ec1891"
      },
      "outputs": [
        {
          "output_type": "stream",
          "name": "stdout",
          "text": [
            "y: [[401]\n",
            " [574]\n",
            " [874]\n",
            " [919]\n",
            " [459]\n",
            " [739]\n",
            " [653]\n",
            " [902]\n",
            " [746]\n",
            " [832]]\n"
          ]
        }
      ],
      "source": [
        "y = ks.reshape(-1, 1)\n",
        "print(f'y: {y}')"
      ]
    },
    {
      "cell_type": "code",
      "execution_count": 9,
      "metadata": {
        "colab": {
          "base_uri": "https://localhost:8080/"
        },
        "id": "E1xWRvjQo-bx",
        "outputId": "1641938a-1505-400b-a49b-9f78b206a675"
      },
      "outputs": [
        {
          "output_type": "stream",
          "name": "stdout",
          "text": [
            "b1: 5.889820420132689\n"
          ]
        }
      ],
      "source": [
        "b_1 = (np.linalg.inv(x.T @ x) @ x.T @ y)[0,0]\n",
        "print(f'b1: {b_1}')"
      ]
    },
    {
      "cell_type": "code",
      "execution_count": 10,
      "metadata": {
        "colab": {
          "base_uri": "https://localhost:8080/"
        },
        "id": "Scq1dI7eo-bx",
        "outputId": "f7d481ed-ec94-456f-82bf-009cdb3d383b"
      },
      "outputs": [
        {
          "output_type": "stream",
          "name": "stdout",
          "text": [
            "x1: [[  1.  35.]\n",
            " [  1.  45.]\n",
            " [  1. 190.]\n",
            " [  1. 200.]\n",
            " [  1.  40.]\n",
            " [  1.  70.]\n",
            " [  1.  54.]\n",
            " [  1. 150.]\n",
            " [  1. 120.]\n",
            " [  1. 110.]]\n"
          ]
        }
      ],
      "source": [
        "x1 = np.hstack((np.ones([10, 1]), x))\n",
        "print(f'x1: {x1}')"
      ]
    },
    {
      "cell_type": "code",
      "execution_count": 11,
      "metadata": {
        "colab": {
          "base_uri": "https://localhost:8080/"
        },
        "id": "P-AzIYA8o-by",
        "outputId": "2298ac28-ebc5-4866-8797-c6f71a9e93e6"
      },
      "outputs": [
        {
          "output_type": "stream",
          "name": "stdout",
          "text": [
            "b1_0: (444.1773573243596, 2.6205388824027636)\n"
          ]
        }
      ],
      "source": [
        "b_1_0 =(np.linalg.inv(x1.T @ x1) @ x1.T @ y)\n",
        "print(f'b1_0: {b_1_0[0,0],b_1_0[1,0]}')"
      ]
    },
    {
      "cell_type": "markdown",
      "source": [
        "3. Отобразим результаты на графике:"
      ],
      "metadata": {
        "id": "cn-mwOUe7NVe"
      }
    },
    {
      "cell_type": "code",
      "execution_count": 18,
      "metadata": {
        "colab": {
          "base_uri": "https://localhost:8080/",
          "height": 487
        },
        "id": "7ApUWc2mo-by",
        "outputId": "930e56f0-f15e-4d19-f01d-1017ffff0c79"
      },
      "outputs": [
        {
          "output_type": "display_data",
          "data": {
            "text/plain": [
              "<Figure size 640x480 with 1 Axes>"
            ],
            "image/png": "[encoded data removed]"
          },
          "metadata": {}
        }
      ],
      "source": [
        "plt.style.use(['tableau-colorblind10'])\n",
        "plt.scatter(zp, ks, label='Выборка')\n",
        "plt.xlabel(\"Заработная плата (zp)\")\n",
        "plt.ylabel(\"Cкоринговый балл (ks)\")\n",
        "plt.plot(x, b_1*zp, 'm*-', label = 'Без intercept')\n",
        "plt.plot(x, b_1_0[0,0] + b_1_0[1,0] * zp, \"g*-\", label = 'C intercept')\n",
        "plt.tight_layout()\n",
        "plt.legend()\n",
        "plt.show()\n"
      ]
    },
    {
      "cell_type": "markdown",
      "metadata": {
        "id": "4tH4R-yjo-bz"
      },
      "source": [
        "## Задача 2\n",
        "\n",
        "_Посчитать коэффициент линейной регрессии при заработной плате (zp), используя градиентный спуск (без intercept)._"
      ]
    },
    {
      "cell_type": "code",
      "execution_count": 29,
      "metadata": {
        "colab": {
          "base_uri": "https://localhost:8080/"
        },
        "id": "JFSuDAXgo-bz",
        "outputId": "f51f1bd0-e408-4ac7-a0ac-81bc85a2ff15"
      },
      "outputs": [
        {
          "output_type": "stream",
          "name": "stdout",
          "text": [
            "Итерация = 0, b1 = 0.25952808, mse = 493237.7212546963\n",
            "Итерация = 500, b1 = 5.889815595583751, mse = 56516.858416040064\n",
            "Итерация = 1000, b1 = 5.8898204201285544, mse = 56516.85841571941\n",
            "Итерация = 1500, b1 = 5.889820420132673, mse = 56516.85841571943\n",
            "Итерация = 2000, b1 = 5.889820420132673, mse = 56516.85841571943\n",
            "Итерация = 2500, b1 = 5.889820420132673, mse = 56516.85841571943\n"
          ]
        }
      ],
      "source": [
        "def mse_(b1, x=zp, y=ks, n=zp.shape[0]):\n",
        "    return ((b1 * x - y) ** 2).sum() / n\n",
        "\n",
        "n = zp.shape[0]\n",
        "alpha = 1e-6\n",
        "B1 = 0.1\n",
        "for i in range(3000):\n",
        "    B1 -= alpha * 2 / n * ((B1 * x - y ) * x).sum()\n",
        "    if not i % 500:\n",
        "        print(f'Итерация = {i}, b1 = {B1}, mse = {mse_(B1)}')"
      ]
    },
    {
      "cell_type": "code",
      "execution_count": 22,
      "metadata": {
        "colab": {
          "base_uri": "https://localhost:8080/"
        },
        "id": "Vwg7k_MXo-bz",
        "outputId": "b8e2b12f-1211-4b40-c614-8eba9b0f1f91"
      },
      "outputs": [
        {
          "output_type": "execute_result",
          "data": {
            "text/plain": [
              "56516.85841572182"
            ]
          },
          "metadata": {},
          "execution_count": 22
        }
      ],
      "source": [
        "mse_(5.88982)"
      ]
    },
    {
      "cell_type": "code",
      "source": [
        "print(f'b1: {B1}')"
      ],
      "metadata": {
        "colab": {
          "base_uri": "https://localhost:8080/"
        },
        "id": "wFn03dhz-WCv",
        "outputId": "33c7d279-286b-4873-87f3-ca69742290f0"
      },
      "execution_count": 31,
      "outputs": [
        {
          "output_type": "stream",
          "name": "stdout",
          "text": [
            "b1: 5.889820420132673\n"
          ]
        }
      ]
    },
    {
      "cell_type": "markdown",
      "metadata": {
        "id": "g4bqt5MAo-b0"
      },
      "source": [
        "## Задача 3\n",
        "\n",
        "_Произвести вычисления как в пункте 2, но с вычислением intercept. Учесть, что изменение коэффициентов должно производиться на каждом шаге одновременно (то есть изменение одного коэффициента не должно влиять на изменение другого во время одной итерации)._"
      ]
    },
    {
      "cell_type": "markdown",
      "metadata": {
        "id": "krCqneP0o-b0"
      },
      "source": [
        "1. Найдем производные"
      ]
    },
    {
      "cell_type": "code",
      "execution_count": 23,
      "metadata": {
        "colab": {
          "base_uri": "https://localhost:8080/",
          "height": 56
        },
        "id": "MN8iNMgMo-b0",
        "outputId": "39fe9925-42c4-4ecf-b5fd-92e1fdb8fb22"
      },
      "outputs": [
        {
          "output_type": "execute_result",
          "data": {
            "text/plain": [
              "(-beta_0 - beta_1*x + y)**2/n"
            ],
            "text/latex": "$\\displaystyle \\frac{\\left(- \\beta_{0} - \\beta_{1} x + y\\right)^{2}}{n}$"
          },
          "metadata": {},
          "execution_count": 23
        }
      ],
      "source": [
        "beta0, beta1, xi, yi, nn = sym.symbols('beta_0, beta_1, x, y, n')\n",
        "SSE = ((yi - (beta0 + beta1 * xi)) ** 2)/nn\n",
        "\n",
        "SSE"
      ]
    },
    {
      "cell_type": "code",
      "execution_count": 24,
      "metadata": {
        "colab": {
          "base_uri": "https://localhost:8080/",
          "height": 53
        },
        "id": "AiiUoTgZo-b1",
        "outputId": "c66a200c-1657-4c86-8dc8-6e91663a525b"
      },
      "outputs": [
        {
          "output_type": "execute_result",
          "data": {
            "text/plain": [
              "-2*x*(-beta_0 - beta_1*x + y)/n"
            ],
            "text/latex": "$\\displaystyle - \\frac{2 x \\left(- \\beta_{0} - \\beta_{1} x + y\\right)}{n}$"
          },
          "metadata": {},
          "execution_count": 24
        }
      ],
      "source": [
        "sym.diff(SSE,beta1)"
      ]
    },
    {
      "cell_type": "code",
      "execution_count": 25,
      "metadata": {
        "colab": {
          "base_uri": "https://localhost:8080/",
          "height": 52
        },
        "id": "zB9YGCw5o-b1",
        "outputId": "3b7163ad-7555-46d5-fae0-619bb3875131"
      },
      "outputs": [
        {
          "output_type": "execute_result",
          "data": {
            "text/plain": [
              "(2*beta_0 + 2*beta_1*x - 2*y)/n"
            ],
            "text/latex": "$\\displaystyle \\frac{2 \\beta_{0} + 2 \\beta_{1} x - 2 y}{n}$"
          },
          "metadata": {},
          "execution_count": 25
        }
      ],
      "source": [
        "sym.diff(SSE,beta0)"
      ]
    },
    {
      "cell_type": "code",
      "execution_count": 26,
      "metadata": {
        "colab": {
          "base_uri": "https://localhost:8080/"
        },
        "id": "nliAJ4TDo-b2",
        "outputId": "5beb641f-918a-4660-918a-482eeb67ee49"
      },
      "outputs": [
        {
          "output_type": "stream",
          "name": "stdout",
          "text": [
            "Итерация = 0, b0 = 400.0059952, b1 = 0.8840808000000001\n",
            "Итерация = 1000000, b0 = 443.900790592795, b1 = 2.6225745358242567\n",
            "Итерация = 2000000, b0 = 444.1756250834458, b1 = 2.6205516324617584\n",
            "Итерация = 3000000, b0 = 444.177346474686, b1 = 2.62053896226116\n",
            "Итерация = 4000000, b0 = 444.1773572562525, b1 = 2.6205388829040634\n",
            "Итерация = 5000000, b0 = 444.17735731875723, b1 = 2.6205388824440012\n",
            "Итерация = 6000000, b0 = 444.17735731875723, b1 = 2.6205388824440012\n"
          ]
        }
      ],
      "source": [
        "x, y = zp, ks\n",
        "b0, b1 = 400, 0.1\n",
        "n = x.shape[0]\n",
        "lr = 1e-5\n",
        "epochs = 6000000\n",
        "\n",
        "for epoch in range(epochs +1):\n",
        "    cost_b0 = 2 /n * (b0 + b1 * x - y).sum()\n",
        "    cost_b1 = -2 / n * ((y - b0 - b1*x)*x).sum()\n",
        "    b0 = b0 - lr * cost_b0\n",
        "    b1 = b1 - lr * cost_b1\n",
        "\n",
        "\n",
        "    if not epoch % 1000000:\n",
        "        print(f'Итерация = {epoch}, b0 = {b0}, b1 = {b1}')"
      ]
    },
    {
      "cell_type": "code",
      "source": [
        "print(f'b0 = {b0}, b1 = {b1}')"
      ],
      "metadata": {
        "colab": {
          "base_uri": "https://localhost:8080/"
        },
        "id": "VcPmfTgF-GDB",
        "outputId": "1d852ced-f02f-4c81-be77-b9aa0cabda39"
      },
      "execution_count": 27,
      "outputs": [
        {
          "output_type": "stream",
          "name": "stdout",
          "text": [
            "b0 = 444.17735731875723, b1 = 2.6205388824440012\n"
          ]
        }
      ]
    }
  ],
  "metadata": {
    "kernelspec": {
      "display_name": "Python 3",
      "language": "python",
      "name": "python3"
    },
    "language_info": {
      "codemirror_mode": {
        "name": "ipython",
        "version": 3
      },
      "file_extension": ".py",
      "mimetype": "text/x-python",
      "name": "python",
      "nbconvert_exporter": "python",
      "pygments_lexer": "ipython3",
      "version": "3.11.1"
    },
    "orig_nbformat": 4,
    "vscode": {
      "interpreter": {
        "hash": "867b719568835d2758971036323f4589e1a00f73e0a167b563d81825d1a5986e"
      }
    },
    "colab": {
      "provenance": []
    }
  },
  "nbformat": 4,
  "nbformat_minor": 0
}